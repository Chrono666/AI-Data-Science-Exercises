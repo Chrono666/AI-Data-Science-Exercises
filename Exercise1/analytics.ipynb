{
 "cells": [
  {
   "cell_type": "code",
   "execution_count": 1,
   "metadata": {
    "scrolled": false
   },
   "outputs": [],
   "source": [
    "import jsonpickle\n",
    "import matplotlib.pyplot as plt\n",
    "import numpy as np\n",
    "import pandas as pd\n",
    "\n",
    "with open(\"results_50_2021-04-26.json\", \"r\") as file:\n",
    "    contents = file.read()\n",
    "    unfrozen = jsonpickle.decode(contents)\n",
    "\n",
    "df = pd.DataFrame(unfrozen)\n",
    "cols = list(df.columns)"
   ]
  },
  {
   "cell_type": "code",
   "execution_count": 19,
   "metadata": {},
   "outputs": [
    {
     "data": {
      "text/html": [
       "<div>\n",
       "<style scoped>\n",
       "    .dataframe tbody tr th:only-of-type {\n",
       "        vertical-align: middle;\n",
       "    }\n",
       "\n",
       "    .dataframe tbody tr th {\n",
       "        vertical-align: top;\n",
       "    }\n",
       "\n",
       "    .dataframe thead th {\n",
       "        text-align: right;\n",
       "    }\n",
       "</style>\n",
       "<table border=\"1\" class=\"dataframe\">\n",
       "  <thead>\n",
       "    <tr style=\"text-align: right;\">\n",
       "      <th></th>\n",
       "      <th>array</th>\n",
       "      <th>weights</th>\n",
       "      <th>expanded_nodes</th>\n",
       "      <th>time_elapsed</th>\n",
       "      <th>depth</th>\n",
       "    </tr>\n",
       "  </thead>\n",
       "  <tbody>\n",
       "    <tr>\n",
       "      <th>0</th>\n",
       "      <td>(7, 5, 6, 0, 4, 2, 8, 1, 3)</td>\n",
       "      <td>(1.0, 0.0)</td>\n",
       "      <td>6897</td>\n",
       "      <td>2.854512</td>\n",
       "      <td>27</td>\n",
       "    </tr>\n",
       "    <tr>\n",
       "      <th>1</th>\n",
       "      <td>(7, 5, 6, 0, 4, 2, 8, 1, 3)</td>\n",
       "      <td>(0.98, 0.02)</td>\n",
       "      <td>7302</td>\n",
       "      <td>3.253514</td>\n",
       "      <td>27</td>\n",
       "    </tr>\n",
       "    <tr>\n",
       "      <th>2</th>\n",
       "      <td>(7, 5, 6, 0, 4, 2, 8, 1, 3)</td>\n",
       "      <td>(0.96, 0.04)</td>\n",
       "      <td>7296</td>\n",
       "      <td>3.148510</td>\n",
       "      <td>27</td>\n",
       "    </tr>\n",
       "    <tr>\n",
       "      <th>3</th>\n",
       "      <td>(7, 5, 6, 0, 4, 2, 8, 1, 3)</td>\n",
       "      <td>(0.94, 0.06)</td>\n",
       "      <td>7300</td>\n",
       "      <td>3.007513</td>\n",
       "      <td>27</td>\n",
       "    </tr>\n",
       "    <tr>\n",
       "      <th>4</th>\n",
       "      <td>(7, 5, 6, 0, 4, 2, 8, 1, 3)</td>\n",
       "      <td>(0.9199999999999999, 0.08)</td>\n",
       "      <td>7304</td>\n",
       "      <td>3.120513</td>\n",
       "      <td>27</td>\n",
       "    </tr>\n",
       "    <tr>\n",
       "      <th>5</th>\n",
       "      <td>(7, 5, 6, 0, 4, 2, 8, 1, 3)</td>\n",
       "      <td>(0.8999999999999999, 0.1)</td>\n",
       "      <td>7461</td>\n",
       "      <td>3.187513</td>\n",
       "      <td>27</td>\n",
       "    </tr>\n",
       "    <tr>\n",
       "      <th>6</th>\n",
       "      <td>(7, 5, 6, 0, 4, 2, 8, 1, 3)</td>\n",
       "      <td>(0.8799999999999999, 0.12)</td>\n",
       "      <td>7992</td>\n",
       "      <td>3.564512</td>\n",
       "      <td>27</td>\n",
       "    </tr>\n",
       "    <tr>\n",
       "      <th>7</th>\n",
       "      <td>(7, 5, 6, 0, 4, 2, 8, 1, 3)</td>\n",
       "      <td>(0.8599999999999999, 0.14)</td>\n",
       "      <td>8335</td>\n",
       "      <td>3.614513</td>\n",
       "      <td>27</td>\n",
       "    </tr>\n",
       "    <tr>\n",
       "      <th>8</th>\n",
       "      <td>(7, 5, 6, 0, 4, 2, 8, 1, 3)</td>\n",
       "      <td>(0.8399999999999999, 0.16)</td>\n",
       "      <td>8982</td>\n",
       "      <td>4.970000</td>\n",
       "      <td>27</td>\n",
       "    </tr>\n",
       "    <tr>\n",
       "      <th>9</th>\n",
       "      <td>(7, 5, 6, 0, 4, 2, 8, 1, 3)</td>\n",
       "      <td>(0.8199999999999998, 0.18)</td>\n",
       "      <td>9664</td>\n",
       "      <td>5.590998</td>\n",
       "      <td>27</td>\n",
       "    </tr>\n",
       "    <tr>\n",
       "      <th>10</th>\n",
       "      <td>(7, 5, 6, 0, 4, 2, 8, 1, 3)</td>\n",
       "      <td>(0.7999999999999998, 0.2)</td>\n",
       "      <td>10292</td>\n",
       "      <td>6.648999</td>\n",
       "      <td>27</td>\n",
       "    </tr>\n",
       "    <tr>\n",
       "      <th>11</th>\n",
       "      <td>(7, 5, 6, 0, 4, 2, 8, 1, 3)</td>\n",
       "      <td>(0.7799999999999998, 0.22)</td>\n",
       "      <td>10824</td>\n",
       "      <td>7.363000</td>\n",
       "      <td>27</td>\n",
       "    </tr>\n",
       "    <tr>\n",
       "      <th>12</th>\n",
       "      <td>(7, 5, 6, 0, 4, 2, 8, 1, 3)</td>\n",
       "      <td>(0.7599999999999998, 0.24)</td>\n",
       "      <td>11331</td>\n",
       "      <td>7.848000</td>\n",
       "      <td>27</td>\n",
       "    </tr>\n",
       "    <tr>\n",
       "      <th>13</th>\n",
       "      <td>(7, 5, 6, 0, 4, 2, 8, 1, 3)</td>\n",
       "      <td>(0.7399999999999998, 0.26)</td>\n",
       "      <td>12303</td>\n",
       "      <td>9.916001</td>\n",
       "      <td>27</td>\n",
       "    </tr>\n",
       "    <tr>\n",
       "      <th>14</th>\n",
       "      <td>(7, 5, 6, 0, 4, 2, 8, 1, 3)</td>\n",
       "      <td>(0.7199999999999998, 0.28)</td>\n",
       "      <td>12300</td>\n",
       "      <td>9.015003</td>\n",
       "      <td>27</td>\n",
       "    </tr>\n",
       "    <tr>\n",
       "      <th>15</th>\n",
       "      <td>(7, 5, 6, 0, 4, 2, 8, 1, 3)</td>\n",
       "      <td>(0.6999999999999997, 0.3)</td>\n",
       "      <td>12319</td>\n",
       "      <td>8.639001</td>\n",
       "      <td>27</td>\n",
       "    </tr>\n",
       "    <tr>\n",
       "      <th>16</th>\n",
       "      <td>(7, 5, 6, 0, 4, 2, 8, 1, 3)</td>\n",
       "      <td>(0.6799999999999997, 0.32)</td>\n",
       "      <td>12174</td>\n",
       "      <td>8.682003</td>\n",
       "      <td>27</td>\n",
       "    </tr>\n",
       "    <tr>\n",
       "      <th>17</th>\n",
       "      <td>(7, 5, 6, 0, 4, 2, 8, 1, 3)</td>\n",
       "      <td>(0.6599999999999997, 0.34)</td>\n",
       "      <td>13194</td>\n",
       "      <td>10.516001</td>\n",
       "      <td>27</td>\n",
       "    </tr>\n",
       "    <tr>\n",
       "      <th>18</th>\n",
       "      <td>(7, 5, 6, 0, 4, 2, 8, 1, 3)</td>\n",
       "      <td>(0.6399999999999997, 0.36)</td>\n",
       "      <td>13253</td>\n",
       "      <td>11.334000</td>\n",
       "      <td>27</td>\n",
       "    </tr>\n",
       "    <tr>\n",
       "      <th>19</th>\n",
       "      <td>(7, 5, 6, 0, 4, 2, 8, 1, 3)</td>\n",
       "      <td>(0.6199999999999997, 0.38)</td>\n",
       "      <td>13324</td>\n",
       "      <td>11.319000</td>\n",
       "      <td>27</td>\n",
       "    </tr>\n",
       "    <tr>\n",
       "      <th>20</th>\n",
       "      <td>(7, 5, 6, 0, 4, 2, 8, 1, 3)</td>\n",
       "      <td>(0.5999999999999996, 0.4)</td>\n",
       "      <td>14118</td>\n",
       "      <td>12.340000</td>\n",
       "      <td>27</td>\n",
       "    </tr>\n",
       "    <tr>\n",
       "      <th>21</th>\n",
       "      <td>(7, 5, 6, 0, 4, 2, 8, 1, 3)</td>\n",
       "      <td>(0.5799999999999996, 0.42)</td>\n",
       "      <td>14426</td>\n",
       "      <td>11.920000</td>\n",
       "      <td>27</td>\n",
       "    </tr>\n",
       "    <tr>\n",
       "      <th>22</th>\n",
       "      <td>(7, 5, 6, 0, 4, 2, 8, 1, 3)</td>\n",
       "      <td>(0.5599999999999996, 0.44)</td>\n",
       "      <td>15463</td>\n",
       "      <td>13.230998</td>\n",
       "      <td>27</td>\n",
       "    </tr>\n",
       "    <tr>\n",
       "      <th>23</th>\n",
       "      <td>(7, 5, 6, 0, 4, 2, 8, 1, 3)</td>\n",
       "      <td>(0.5399999999999996, 0.46)</td>\n",
       "      <td>16512</td>\n",
       "      <td>15.051022</td>\n",
       "      <td>27</td>\n",
       "    </tr>\n",
       "    <tr>\n",
       "      <th>24</th>\n",
       "      <td>(7, 5, 6, 0, 4, 2, 8, 1, 3)</td>\n",
       "      <td>(0.5199999999999996, 0.48)</td>\n",
       "      <td>16557</td>\n",
       "      <td>12.900996</td>\n",
       "      <td>27</td>\n",
       "    </tr>\n",
       "  </tbody>\n",
       "</table>\n",
       "</div>"
      ],
      "text/plain": [
       "                          array                     weights  expanded_nodes  \\\n",
       "0   (7, 5, 6, 0, 4, 2, 8, 1, 3)                  (1.0, 0.0)            6897   \n",
       "1   (7, 5, 6, 0, 4, 2, 8, 1, 3)                (0.98, 0.02)            7302   \n",
       "2   (7, 5, 6, 0, 4, 2, 8, 1, 3)                (0.96, 0.04)            7296   \n",
       "3   (7, 5, 6, 0, 4, 2, 8, 1, 3)                (0.94, 0.06)            7300   \n",
       "4   (7, 5, 6, 0, 4, 2, 8, 1, 3)  (0.9199999999999999, 0.08)            7304   \n",
       "5   (7, 5, 6, 0, 4, 2, 8, 1, 3)   (0.8999999999999999, 0.1)            7461   \n",
       "6   (7, 5, 6, 0, 4, 2, 8, 1, 3)  (0.8799999999999999, 0.12)            7992   \n",
       "7   (7, 5, 6, 0, 4, 2, 8, 1, 3)  (0.8599999999999999, 0.14)            8335   \n",
       "8   (7, 5, 6, 0, 4, 2, 8, 1, 3)  (0.8399999999999999, 0.16)            8982   \n",
       "9   (7, 5, 6, 0, 4, 2, 8, 1, 3)  (0.8199999999999998, 0.18)            9664   \n",
       "10  (7, 5, 6, 0, 4, 2, 8, 1, 3)   (0.7999999999999998, 0.2)           10292   \n",
       "11  (7, 5, 6, 0, 4, 2, 8, 1, 3)  (0.7799999999999998, 0.22)           10824   \n",
       "12  (7, 5, 6, 0, 4, 2, 8, 1, 3)  (0.7599999999999998, 0.24)           11331   \n",
       "13  (7, 5, 6, 0, 4, 2, 8, 1, 3)  (0.7399999999999998, 0.26)           12303   \n",
       "14  (7, 5, 6, 0, 4, 2, 8, 1, 3)  (0.7199999999999998, 0.28)           12300   \n",
       "15  (7, 5, 6, 0, 4, 2, 8, 1, 3)   (0.6999999999999997, 0.3)           12319   \n",
       "16  (7, 5, 6, 0, 4, 2, 8, 1, 3)  (0.6799999999999997, 0.32)           12174   \n",
       "17  (7, 5, 6, 0, 4, 2, 8, 1, 3)  (0.6599999999999997, 0.34)           13194   \n",
       "18  (7, 5, 6, 0, 4, 2, 8, 1, 3)  (0.6399999999999997, 0.36)           13253   \n",
       "19  (7, 5, 6, 0, 4, 2, 8, 1, 3)  (0.6199999999999997, 0.38)           13324   \n",
       "20  (7, 5, 6, 0, 4, 2, 8, 1, 3)   (0.5999999999999996, 0.4)           14118   \n",
       "21  (7, 5, 6, 0, 4, 2, 8, 1, 3)  (0.5799999999999996, 0.42)           14426   \n",
       "22  (7, 5, 6, 0, 4, 2, 8, 1, 3)  (0.5599999999999996, 0.44)           15463   \n",
       "23  (7, 5, 6, 0, 4, 2, 8, 1, 3)  (0.5399999999999996, 0.46)           16512   \n",
       "24  (7, 5, 6, 0, 4, 2, 8, 1, 3)  (0.5199999999999996, 0.48)           16557   \n",
       "\n",
       "    time_elapsed  depth  \n",
       "0       2.854512     27  \n",
       "1       3.253514     27  \n",
       "2       3.148510     27  \n",
       "3       3.007513     27  \n",
       "4       3.120513     27  \n",
       "5       3.187513     27  \n",
       "6       3.564512     27  \n",
       "7       3.614513     27  \n",
       "8       4.970000     27  \n",
       "9       5.590998     27  \n",
       "10      6.648999     27  \n",
       "11      7.363000     27  \n",
       "12      7.848000     27  \n",
       "13      9.916001     27  \n",
       "14      9.015003     27  \n",
       "15      8.639001     27  \n",
       "16      8.682003     27  \n",
       "17     10.516001     27  \n",
       "18     11.334000     27  \n",
       "19     11.319000     27  \n",
       "20     12.340000     27  \n",
       "21     11.920000     27  \n",
       "22     13.230998     27  \n",
       "23     15.051022     27  \n",
       "24     12.900996     27  "
      ]
     },
     "execution_count": 19,
     "metadata": {},
     "output_type": "execute_result"
    }
   ],
   "source": [
    "df\n",
    "\n",
    "# for item in unfrozen:\n",
    "#     item[\"weights\"] = tuple(item[\"weights\"])\n",
    "\n",
    "\n",
    "# with open(f\"new_results_3000_2021-04-26.json\", \"w\") as file:\n",
    "#     frozen = jsonpickle.encode(unfrozen)\n",
    "#     file.write(frozen)\n",
    "\n",
    "\n",
    "\n",
    "# df.value_counts([\"array\", \"weights\"])\n",
    "# df[\"array\"]\n",
    "\n",
    "# test = (0, 3, 4, 6, 1, 2, 5, 8, 7)\n",
    "# output = df['array'] == test\n",
    "# df[output]\n",
    "\n",
    "# errors: 15975 - 15999\n",
    "    \n"
   ]
  },
  {
   "cell_type": "markdown",
   "metadata": {},
   "source": [
    "## Group items\n",
    "Group items by depth (= how many steps were required to finish the puzzle), show the distribution of depths as chart"
   ]
  },
  {
   "cell_type": "code",
   "execution_count": 3,
   "metadata": {},
   "outputs": [
    {
     "data": {
      "image/png": "[encoded data removed]",
      "text/plain": [
       "<Figure size 1080x360 with 1 Axes>"
      ]
     },
     "metadata": {
      "needs_background": "light"
     },
     "output_type": "display_data"
    }
   ],
   "source": [
    "group = df.groupby(['depth'])\n",
    "x_pos = [i for i, _ in enumerate(group)]\n",
    "fig, ax = plt.subplots(figsize=(15,5))\n",
    "plt.xticks(list(group.groups.keys()))\n",
    "ax.bar(list(group.groups.keys()), list(group.size()))\n",
    "plt.show()"
   ]
  },
  {
   "cell_type": "markdown",
   "metadata": {},
   "source": [
    "## Printing a single constellation"
   ]
  },
  {
   "cell_type": "code",
   "execution_count": 4,
   "metadata": {
    "scrolled": false
   },
   "outputs": [
    {
     "data": {
      "image/png": "[encoded data removed]",
      "text/plain": [
       "<Figure size 1080x360 with 2 Axes>"
      ]
     },
     "metadata": {
      "needs_background": "light"
     },
     "output_type": "display_data"
    },
    {
     "data": {
      "image/png": "[encoded data removed]",
      "text/plain": [
       "<Figure size 720x360 with 2 Axes>"
      ]
     },
     "metadata": {
      "needs_background": "light"
     },
     "output_type": "display_data"
    }
   ],
   "source": [
    "x1 = np.array(df[0:25]['weights'].tolist())[:,0]\n",
    "y = df[0:25]['expanded_nodes']\n",
    "fig, ax = plt.subplots(1,2, figsize=(15,5))\n",
    "ax[1].plot(x1,y, \"b--\", label=\"Manhattan weight\")\n",
    "ax[1].set_xlabel(\"weight ratio\")\n",
    "ax[1].set_ylabel(\"expanded nodes\")\n",
    "ax[1].legend()\n",
    "\n",
    "x2 = np.array(df[0:25]['weights'].tolist())[:,1]\n",
    "y = df[0:25]['expanded_nodes']\n",
    "ax[0].plot(x2,y, \"r--\", label=\"Hamming weight\")\n",
    "ax[0].set_xlabel(\"weight ratio\")\n",
    "ax[0].set_ylabel(\"expanded nodes\")\n",
    "ax[0].legend()\n",
    "\n",
    "plt.show()\n",
    "\n",
    "############## COMBINED\n",
    "\n",
    "fig = plt.figure(figsize=(10,5))\n",
    "ax1 = fig.add_subplot()\n",
    "ax2 = ax1.twiny()\n",
    "\n",
    "ax1.plot(x1,y, \"b\", label=\"Manhattan weight\")\n",
    "ax1.set_xlabel(\"Manhattan weight\")\n",
    "ax1.set_ylabel(\"expanded nodes\")\n",
    "ax1.legend()\n",
    "\n",
    "ax2.plot(x2,y, \"r--\", label=\"Hamming weight\")\n",
    "ax2.set_xlabel(\"Hamming weight\")\n",
    "ax2.set_ylabel(\"expanded nodes\")\n",
    "ax2.legend()\n",
    "\n",
    "plt.show()\n"
   ]
  },
  {
   "cell_type": "markdown",
   "metadata": {},
   "source": [
    "## Print constellation for all (average)\n",
    "\n",
    "Shows the average expanded nodes based on the weight"
   ]
  },
  {
   "cell_type": "code",
   "execution_count": 5,
   "metadata": {
    "scrolled": false
   },
   "outputs": [
    {
     "data": {
      "image/png": "[encoded data removed]",
      "text/plain": [
       "<Figure size 1080x360 with 2 Axes>"
      ]
     },
     "metadata": {
      "needs_background": "light"
     },
     "output_type": "display_data"
    },
    {
     "data": {
      "image/png": "[encoded data removed]",
      "text/plain": [
       "<Figure size 720x360 with 2 Axes>"
      ]
     },
     "metadata": {
      "needs_background": "light"
     },
     "output_type": "display_data"
    }
   ],
   "source": [
    "weight_group = df.groupby(['weights'])\n",
    "x1 = np.array(list(weight_group.groups.keys()))[:,0]\n",
    "x2 = np.array(list(weight_group.groups.keys()))[:,1]\n",
    "y = weight_group['expanded_nodes'].mean()\n",
    "\n",
    "fig, ax = plt.subplots(1,2, figsize=(15,5))\n",
    "ax[1].plot(x1, y, \"b--\", label=\"Manhattan weight\") \n",
    "ax[1].set_xlabel(\"Weight ratio\")\n",
    "ax[1].set_ylabel(\"Average expanded nodes\")\n",
    "ax[1].legend()\n",
    "\n",
    "ax[0].plot(x2, y, \"r--\",label = \"Hamming weight\") \n",
    "ax[0].set_xlabel(\"Weight ratio\")\n",
    "ax[0].set_ylabel(\"Average expanded nodes\")\n",
    "ax[0].legend()\n",
    "plt.show()\n",
    "\n",
    "###################### COMBINED\n",
    "\n",
    "fig = plt.figure(figsize=(10,5))\n",
    "ax1 = fig.add_subplot()\n",
    "ax2 = ax1.twiny()\n",
    "\n",
    "ax1.plot(x1,y, \"b\", label=\"Manhattan weight\")\n",
    "ax1.set_xlabel(\"Manhattan weight\")\n",
    "ax1.set_ylabel(\"expanded nodes\")\n",
    "ax1.legend()\n",
    "\n",
    "ax2.plot(x2,y, \"r--\", label=\"Hamming weight\")\n",
    "ax2.set_xlabel(\"Hamming weight\")\n",
    "ax2.set_ylabel(\"expanded nodes\")\n",
    "ax2.legend()\n",
    "\n",
    "plt.show()\n"
   ]
  },
  {
   "cell_type": "code",
   "execution_count": 6,
   "metadata": {},
   "outputs": [],
   "source": [
    "df = pd.DataFrame(unfrozen)"
   ]
  },
  {
   "cell_type": "markdown",
   "metadata": {},
   "source": [
    "## Min Nodes"
   ]
  },
  {
   "cell_type": "code",
   "execution_count": 7,
   "metadata": {},
   "outputs": [
    {
     "data": {
      "text/html": [
       "<div>\n",
       "<style scoped>\n",
       "    .dataframe tbody tr th:only-of-type {\n",
       "        vertical-align: middle;\n",
       "    }\n",
       "\n",
       "    .dataframe tbody tr th {\n",
       "        vertical-align: top;\n",
       "    }\n",
       "\n",
       "    .dataframe thead th {\n",
       "        text-align: right;\n",
       "    }\n",
       "</style>\n",
       "<table border=\"1\" class=\"dataframe\">\n",
       "  <thead>\n",
       "    <tr style=\"text-align: right;\">\n",
       "      <th></th>\n",
       "      <th>expanded_nodes</th>\n",
       "    </tr>\n",
       "    <tr>\n",
       "      <th>depth</th>\n",
       "      <th></th>\n",
       "    </tr>\n",
       "  </thead>\n",
       "  <tbody>\n",
       "    <tr>\n",
       "      <th>27</th>\n",
       "      <td>6897</td>\n",
       "    </tr>\n",
       "  </tbody>\n",
       "</table>\n",
       "</div>"
      ],
      "text/plain": [
       "       expanded_nodes\n",
       "depth                \n",
       "27               6897"
      ]
     },
     "execution_count": 7,
     "metadata": {},
     "output_type": "execute_result"
    }
   ],
   "source": [
    "min_value = group[['expanded_nodes']].min()\n",
    "min_value"
   ]
  },
  {
   "cell_type": "markdown",
   "metadata": {},
   "source": [
    "## Max Nodes"
   ]
  },
  {
   "cell_type": "code",
   "execution_count": 8,
   "metadata": {},
   "outputs": [
    {
     "data": {
      "text/html": [
       "<div>\n",
       "<style scoped>\n",
       "    .dataframe tbody tr th:only-of-type {\n",
       "        vertical-align: middle;\n",
       "    }\n",
       "\n",
       "    .dataframe tbody tr th {\n",
       "        vertical-align: top;\n",
       "    }\n",
       "\n",
       "    .dataframe thead th {\n",
       "        text-align: right;\n",
       "    }\n",
       "</style>\n",
       "<table border=\"1\" class=\"dataframe\">\n",
       "  <thead>\n",
       "    <tr style=\"text-align: right;\">\n",
       "      <th></th>\n",
       "      <th>expanded_nodes</th>\n",
       "    </tr>\n",
       "    <tr>\n",
       "      <th>depth</th>\n",
       "      <th></th>\n",
       "    </tr>\n",
       "  </thead>\n",
       "  <tbody>\n",
       "    <tr>\n",
       "      <th>27</th>\n",
       "      <td>16557</td>\n",
       "    </tr>\n",
       "  </tbody>\n",
       "</table>\n",
       "</div>"
      ],
      "text/plain": [
       "       expanded_nodes\n",
       "depth                \n",
       "27              16557"
      ]
     },
     "execution_count": 8,
     "metadata": {},
     "output_type": "execute_result"
    }
   ],
   "source": [
    "min_value = group[['expanded_nodes']].max()\n",
    "min_value"
   ]
  },
  {
   "cell_type": "markdown",
   "metadata": {},
   "source": [
    "## Mean Nodes"
   ]
  },
  {
   "cell_type": "code",
   "execution_count": 9,
   "metadata": {},
   "outputs": [
    {
     "name": "stdout",
     "output_type": "stream",
     "text": [
      "       expanded_nodes\n",
      "depth                \n",
      "27           11076.92\n"
     ]
    }
   ],
   "source": [
    "mean_value = group[['expanded_nodes']].mean()\n",
    "print(mean_value)"
   ]
  },
  {
   "cell_type": "markdown",
   "metadata": {},
   "source": [
    "## Best weights based on the least nodes per depth"
   ]
  },
  {
   "cell_type": "code",
   "execution_count": 10,
   "metadata": {
    "scrolled": true
   },
   "outputs": [
    {
     "data": {
      "text/plain": [
       "array([1., 0.])"
      ]
     },
     "execution_count": 10,
     "metadata": {},
     "output_type": "execute_result"
    }
   ],
   "source": [
    "min_nodes = df.loc[group['expanded_nodes'].idxmin()]\n",
    "np.mean(min_nodes['weights'].tolist(), axis=0)"
   ]
  },
  {
   "cell_type": "markdown",
   "metadata": {},
   "source": [
    "## Best weights based on the weights with the least nodes of each example"
   ]
  },
  {
   "cell_type": "code",
   "execution_count": 11,
   "metadata": {},
   "outputs": [
    {
     "data": {
      "text/plain": [
       "array([1., 0.])"
      ]
     },
     "execution_count": 11,
     "metadata": {},
     "output_type": "execute_result"
    }
   ],
   "source": [
    "group_by_example = df.groupby('array')\n",
    "min_nodes_per_example = df.loc[group_by_example['expanded_nodes'].idxmin()]\n",
    "np.mean(min_nodes_per_example['weights'].tolist(), axis=0)"
   ]
  },
  {
   "cell_type": "code",
   "execution_count": 12,
   "metadata": {
    "scrolled": false
   },
   "outputs": [
    {
     "data": {
      "text/html": [
       "<div>\n",
       "<style scoped>\n",
       "    .dataframe tbody tr th:only-of-type {\n",
       "        vertical-align: middle;\n",
       "    }\n",
       "\n",
       "    .dataframe tbody tr th {\n",
       "        vertical-align: top;\n",
       "    }\n",
       "\n",
       "    .dataframe thead th {\n",
       "        text-align: right;\n",
       "    }\n",
       "</style>\n",
       "<table border=\"1\" class=\"dataframe\">\n",
       "  <thead>\n",
       "    <tr style=\"text-align: right;\">\n",
       "      <th></th>\n",
       "      <th>array</th>\n",
       "      <th>weights</th>\n",
       "      <th>expanded_nodes</th>\n",
       "      <th>time_elapsed</th>\n",
       "      <th>depth</th>\n",
       "    </tr>\n",
       "  </thead>\n",
       "  <tbody>\n",
       "    <tr>\n",
       "      <th>0</th>\n",
       "      <td>(7, 5, 6, 0, 4, 2, 8, 1, 3)</td>\n",
       "      <td>(1.0, 0.0)</td>\n",
       "      <td>6897</td>\n",
       "      <td>2.854512</td>\n",
       "      <td>27</td>\n",
       "    </tr>\n",
       "  </tbody>\n",
       "</table>\n",
       "</div>"
      ],
      "text/plain": [
       "                         array     weights  expanded_nodes  time_elapsed  \\\n",
       "0  (7, 5, 6, 0, 4, 2, 8, 1, 3)  (1.0, 0.0)            6897      2.854512   \n",
       "\n",
       "   depth  \n",
       "0     27  "
      ]
     },
     "execution_count": 12,
     "metadata": {},
     "output_type": "execute_result"
    }
   ],
   "source": [
    "min_nodes_per_example.sort_values(\"depth\")"
   ]
  },
  {
   "cell_type": "code",
   "execution_count": 13,
   "metadata": {
    "scrolled": false
   },
   "outputs": [
    {
     "name": "stdout",
     "output_type": "stream",
     "text": [
      "[1.]\n",
      "weights\n",
      "(1.0, 0.0)    255.444444\n",
      "Name: normalized_expanded_nodes, dtype: float64\n"
     ]
    },
    {
     "data": {
      "image/png": "[encoded data removed]",
      "text/plain": [
       "<Figure size 1080x360 with 2 Axes>"
      ]
     },
     "metadata": {
      "needs_background": "light"
     },
     "output_type": "display_data"
    }
   ],
   "source": [
    "min_nodes_per_example['normalized_expanded_nodes'] = min_nodes_per_example['expanded_nodes'] / min_nodes_per_example['depth']\n",
    "weight_group = min_nodes_per_example.groupby(['weights'])\n",
    "\n",
    "x1 = np.array(list(weight_group.groups.keys()))[:,0]\n",
    "x2 = np.array(list(weight_group.groups.keys()))[:,1]\n",
    "weight_group['normalized_expanded_nodes']\n",
    "y = weight_group['normalized_expanded_nodes'].mean()\n",
    "\n",
    "print(x1)\n",
    "print(y)\n",
    "\n",
    "fig, ax = plt.subplots(1,2, figsize=(15,5))\n",
    "ax[0].plot(x1, y, \"b--\", label=\"Manhattan weight\") \n",
    "ax[0].set_xlabel(\"Weight ratio\")\n",
    "ax[0].set_ylabel(\"Average expanded nodes\")\n",
    "ax[0].legend()\n",
    "\n",
    "# ax[1].plot(x2, y, \"r--\",label = \"Hamming weight\") \n",
    "# ax[1].set_xlabel(\"Weight ratio\")\n",
    "# ax[1].set_ylabel(\"Average expanded nodes\")\n",
    "# ax[1].legend()\n",
    "plt.show()\n",
    "\n",
    "# ###################### COMBINED\n",
    "\n",
    "# fig = plt.figure(figsize=(10,5))\n",
    "# ax1 = fig.add_subplot()\n",
    "# ax2 = ax1.twiny()\n",
    "\n",
    "# ax1.plot(x1,y, \"b\", label=\"Manhattan weight\")\n",
    "# ax1.set_xlabel(\"Manhattan weight\")\n",
    "# ax1.set_ylabel(\"expanded nodes\")\n",
    "# ax1.legend()\n",
    "\n",
    "# ax2.plot(x2,y, \"r--\", label=\"Hamming weight\")\n",
    "# ax2.set_xlabel(\"Hamming weight\")\n",
    "# ax2.set_ylabel(\"expanded nodes\")\n",
    "# ax2.legend()\n",
    "\n",
    "# plt.show()\n"
   ]
  }
 ],
 "metadata": {
  "kernelspec": {
   "display_name": "Python 3",
   "language": "python",
   "name": "python3"
  },
  "language_info": {
   "codemirror_mode": {
    "name": "ipython",
    "version": 3
   },
   "file_extension": ".py",
   "mimetype": "text/x-python",
   "name": "python",
   "nbconvert_exporter": "python",
   "pygments_lexer": "ipython3",
   "version": "3.9.2"
  }
 },
 "nbformat": 4,
 "nbformat_minor": 1
}
