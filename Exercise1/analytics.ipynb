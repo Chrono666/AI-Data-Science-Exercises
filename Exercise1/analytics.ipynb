{
 "cells": [
  {
   "cell_type": "code",
   "execution_count": 14,
   "metadata": {
    "scrolled": false
   },
   "outputs": [],
   "source": [
    "import jsonpickle\n",
    "import matplotlib.pyplot as plt\n",
    "import numpy as np\n",
    "import pandas as pd\n",
    "\n",
    "with open(\"results_1_2021-04-26.json\", \"r\") as file:\n",
    "    contents = file.read()\n",
    "    unfrozen = jsonpickle.decode(contents)\n",
    "\n",
    "df = pd.DataFrame(unfrozen)\n",
    "cols = list(df.columns)"
   ]
  },
  {
   "cell_type": "code",
   "execution_count": 2,
   "metadata": {
    "scrolled": true
   },
   "outputs": [
    {
     "data": {
      "text/html": [
       "<div>\n",
       "<style scoped>\n",
       "    .dataframe tbody tr th:only-of-type {\n",
       "        vertical-align: middle;\n",
       "    }\n",
       "\n",
       "    .dataframe tbody tr th {\n",
       "        vertical-align: top;\n",
       "    }\n",
       "\n",
       "    .dataframe thead th {\n",
       "        text-align: right;\n",
       "    }\n",
       "</style>\n",
       "<table border=\"1\" class=\"dataframe\">\n",
       "  <thead>\n",
       "    <tr style=\"text-align: right;\">\n",
       "      <th></th>\n",
       "      <th>array</th>\n",
       "      <th>weights</th>\n",
       "      <th>expanded_nodes</th>\n",
       "      <th>time_elapsed</th>\n",
       "      <th>depth</th>\n",
       "    </tr>\n",
       "  </thead>\n",
       "  <tbody>\n",
       "    <tr>\n",
       "      <th>0</th>\n",
       "      <td>(7, 8, 1, 5, 6, 3, 0, 4, 2)</td>\n",
       "      <td>(1.0, 0.0)</td>\n",
       "      <td>4499</td>\n",
       "      <td>1.448000</td>\n",
       "      <td>26</td>\n",
       "    </tr>\n",
       "    <tr>\n",
       "      <th>1</th>\n",
       "      <td>(7, 8, 1, 5, 6, 3, 0, 4, 2)</td>\n",
       "      <td>(0.99, 0.01)</td>\n",
       "      <td>5796</td>\n",
       "      <td>2.498001</td>\n",
       "      <td>26</td>\n",
       "    </tr>\n",
       "    <tr>\n",
       "      <th>2</th>\n",
       "      <td>(7, 8, 1, 5, 6, 3, 0, 4, 2)</td>\n",
       "      <td>(0.98, 0.02)</td>\n",
       "      <td>5817</td>\n",
       "      <td>2.493999</td>\n",
       "      <td>26</td>\n",
       "    </tr>\n",
       "    <tr>\n",
       "      <th>3</th>\n",
       "      <td>(7, 8, 1, 5, 6, 3, 0, 4, 2)</td>\n",
       "      <td>(0.97, 0.03)</td>\n",
       "      <td>5874</td>\n",
       "      <td>2.477000</td>\n",
       "      <td>26</td>\n",
       "    </tr>\n",
       "    <tr>\n",
       "      <th>4</th>\n",
       "      <td>(7, 8, 1, 5, 6, 3, 0, 4, 2)</td>\n",
       "      <td>(0.96, 0.04)</td>\n",
       "      <td>5816</td>\n",
       "      <td>2.485998</td>\n",
       "      <td>26</td>\n",
       "    </tr>\n",
       "    <tr>\n",
       "      <th>5</th>\n",
       "      <td>(7, 8, 1, 5, 6, 3, 0, 4, 2)</td>\n",
       "      <td>(0.95, 0.05)</td>\n",
       "      <td>5840</td>\n",
       "      <td>2.489998</td>\n",
       "      <td>26</td>\n",
       "    </tr>\n",
       "    <tr>\n",
       "      <th>6</th>\n",
       "      <td>(7, 8, 1, 5, 6, 3, 0, 4, 2)</td>\n",
       "      <td>(0.94, 0.06)</td>\n",
       "      <td>5831</td>\n",
       "      <td>2.395999</td>\n",
       "      <td>26</td>\n",
       "    </tr>\n",
       "    <tr>\n",
       "      <th>7</th>\n",
       "      <td>(7, 8, 1, 5, 6, 3, 0, 4, 2)</td>\n",
       "      <td>(0.93, 0.07)</td>\n",
       "      <td>5863</td>\n",
       "      <td>2.340002</td>\n",
       "      <td>26</td>\n",
       "    </tr>\n",
       "    <tr>\n",
       "      <th>8</th>\n",
       "      <td>(7, 8, 1, 5, 6, 3, 0, 4, 2)</td>\n",
       "      <td>(0.92, 0.08)</td>\n",
       "      <td>5825</td>\n",
       "      <td>2.349999</td>\n",
       "      <td>26</td>\n",
       "    </tr>\n",
       "    <tr>\n",
       "      <th>9</th>\n",
       "      <td>(7, 8, 1, 5, 6, 3, 0, 4, 2)</td>\n",
       "      <td>(0.91, 0.09)</td>\n",
       "      <td>5897</td>\n",
       "      <td>2.283000</td>\n",
       "      <td>26</td>\n",
       "    </tr>\n",
       "    <tr>\n",
       "      <th>10</th>\n",
       "      <td>(7, 8, 1, 5, 6, 3, 0, 4, 2)</td>\n",
       "      <td>(0.9, 0.1)</td>\n",
       "      <td>5997</td>\n",
       "      <td>2.229001</td>\n",
       "      <td>26</td>\n",
       "    </tr>\n",
       "    <tr>\n",
       "      <th>11</th>\n",
       "      <td>(7, 8, 1, 5, 6, 3, 0, 4, 2)</td>\n",
       "      <td>(0.89, 0.11)</td>\n",
       "      <td>6003</td>\n",
       "      <td>2.327999</td>\n",
       "      <td>26</td>\n",
       "    </tr>\n",
       "    <tr>\n",
       "      <th>12</th>\n",
       "      <td>(7, 8, 1, 5, 6, 3, 0, 4, 2)</td>\n",
       "      <td>(0.88, 0.12)</td>\n",
       "      <td>6101</td>\n",
       "      <td>2.522024</td>\n",
       "      <td>26</td>\n",
       "    </tr>\n",
       "    <tr>\n",
       "      <th>13</th>\n",
       "      <td>(7, 8, 1, 5, 6, 3, 0, 4, 2)</td>\n",
       "      <td>(0.87, 0.13)</td>\n",
       "      <td>6361</td>\n",
       "      <td>2.544025</td>\n",
       "      <td>26</td>\n",
       "    </tr>\n",
       "    <tr>\n",
       "      <th>14</th>\n",
       "      <td>(7, 8, 1, 5, 6, 3, 0, 4, 2)</td>\n",
       "      <td>(0.86, 0.14)</td>\n",
       "      <td>6324</td>\n",
       "      <td>2.579027</td>\n",
       "      <td>26</td>\n",
       "    </tr>\n",
       "    <tr>\n",
       "      <th>15</th>\n",
       "      <td>(7, 8, 1, 5, 6, 3, 0, 4, 2)</td>\n",
       "      <td>(0.85, 0.15)</td>\n",
       "      <td>6697</td>\n",
       "      <td>2.819026</td>\n",
       "      <td>26</td>\n",
       "    </tr>\n",
       "    <tr>\n",
       "      <th>16</th>\n",
       "      <td>(7, 8, 1, 5, 6, 3, 0, 4, 2)</td>\n",
       "      <td>(0.84, 0.16)</td>\n",
       "      <td>6661</td>\n",
       "      <td>2.714026</td>\n",
       "      <td>26</td>\n",
       "    </tr>\n",
       "    <tr>\n",
       "      <th>17</th>\n",
       "      <td>(7, 8, 1, 5, 6, 3, 0, 4, 2)</td>\n",
       "      <td>(0.83, 0.17)</td>\n",
       "      <td>7249</td>\n",
       "      <td>2.887026</td>\n",
       "      <td>26</td>\n",
       "    </tr>\n",
       "    <tr>\n",
       "      <th>18</th>\n",
       "      <td>(7, 8, 1, 5, 6, 3, 0, 4, 2)</td>\n",
       "      <td>(0.82, 0.18)</td>\n",
       "      <td>7206</td>\n",
       "      <td>2.949027</td>\n",
       "      <td>26</td>\n",
       "    </tr>\n",
       "    <tr>\n",
       "      <th>19</th>\n",
       "      <td>(7, 8, 1, 5, 6, 3, 0, 4, 2)</td>\n",
       "      <td>(0.81, 0.19)</td>\n",
       "      <td>7298</td>\n",
       "      <td>3.067026</td>\n",
       "      <td>26</td>\n",
       "    </tr>\n",
       "    <tr>\n",
       "      <th>20</th>\n",
       "      <td>(7, 8, 1, 5, 6, 3, 0, 4, 2)</td>\n",
       "      <td>(0.8, 0.2)</td>\n",
       "      <td>7352</td>\n",
       "      <td>3.194000</td>\n",
       "      <td>26</td>\n",
       "    </tr>\n",
       "    <tr>\n",
       "      <th>21</th>\n",
       "      <td>(7, 8, 1, 5, 6, 3, 0, 4, 2)</td>\n",
       "      <td>(0.79, 0.21)</td>\n",
       "      <td>8052</td>\n",
       "      <td>3.663001</td>\n",
       "      <td>26</td>\n",
       "    </tr>\n",
       "    <tr>\n",
       "      <th>22</th>\n",
       "      <td>(7, 8, 1, 5, 6, 3, 0, 4, 2)</td>\n",
       "      <td>(0.78, 0.22)</td>\n",
       "      <td>8041</td>\n",
       "      <td>3.690001</td>\n",
       "      <td>26</td>\n",
       "    </tr>\n",
       "    <tr>\n",
       "      <th>23</th>\n",
       "      <td>(7, 8, 1, 5, 6, 3, 0, 4, 2)</td>\n",
       "      <td>(0.77, 0.23)</td>\n",
       "      <td>8268</td>\n",
       "      <td>3.577000</td>\n",
       "      <td>26</td>\n",
       "    </tr>\n",
       "    <tr>\n",
       "      <th>24</th>\n",
       "      <td>(7, 8, 1, 5, 6, 3, 0, 4, 2)</td>\n",
       "      <td>(0.76, 0.24)</td>\n",
       "      <td>8273</td>\n",
       "      <td>3.426000</td>\n",
       "      <td>26</td>\n",
       "    </tr>\n",
       "    <tr>\n",
       "      <th>25</th>\n",
       "      <td>(7, 8, 1, 5, 6, 3, 0, 4, 2)</td>\n",
       "      <td>(0.75, 0.25)</td>\n",
       "      <td>8312</td>\n",
       "      <td>3.371998</td>\n",
       "      <td>26</td>\n",
       "    </tr>\n",
       "    <tr>\n",
       "      <th>26</th>\n",
       "      <td>(7, 8, 1, 5, 6, 3, 0, 4, 2)</td>\n",
       "      <td>(0.74, 0.26)</td>\n",
       "      <td>9097</td>\n",
       "      <td>3.874000</td>\n",
       "      <td>26</td>\n",
       "    </tr>\n",
       "    <tr>\n",
       "      <th>27</th>\n",
       "      <td>(7, 8, 1, 5, 6, 3, 0, 4, 2)</td>\n",
       "      <td>(0.73, 0.27)</td>\n",
       "      <td>9109</td>\n",
       "      <td>3.928998</td>\n",
       "      <td>26</td>\n",
       "    </tr>\n",
       "    <tr>\n",
       "      <th>28</th>\n",
       "      <td>(7, 8, 1, 5, 6, 3, 0, 4, 2)</td>\n",
       "      <td>(0.72, 0.28)</td>\n",
       "      <td>9205</td>\n",
       "      <td>4.074997</td>\n",
       "      <td>26</td>\n",
       "    </tr>\n",
       "    <tr>\n",
       "      <th>29</th>\n",
       "      <td>(7, 8, 1, 5, 6, 3, 0, 4, 2)</td>\n",
       "      <td>(0.71, 0.29)</td>\n",
       "      <td>9733</td>\n",
       "      <td>4.398003</td>\n",
       "      <td>26</td>\n",
       "    </tr>\n",
       "    <tr>\n",
       "      <th>30</th>\n",
       "      <td>(7, 8, 1, 5, 6, 3, 0, 4, 2)</td>\n",
       "      <td>(0.7, 0.3)</td>\n",
       "      <td>9723</td>\n",
       "      <td>4.494001</td>\n",
       "      <td>26</td>\n",
       "    </tr>\n",
       "  </tbody>\n",
       "</table>\n",
       "</div>"
      ],
      "text/plain": [
       "                          array       weights  expanded_nodes  time_elapsed  \\\n",
       "0   (7, 8, 1, 5, 6, 3, 0, 4, 2)    (1.0, 0.0)            4499      1.448000   \n",
       "1   (7, 8, 1, 5, 6, 3, 0, 4, 2)  (0.99, 0.01)            5796      2.498001   \n",
       "2   (7, 8, 1, 5, 6, 3, 0, 4, 2)  (0.98, 0.02)            5817      2.493999   \n",
       "3   (7, 8, 1, 5, 6, 3, 0, 4, 2)  (0.97, 0.03)            5874      2.477000   \n",
       "4   (7, 8, 1, 5, 6, 3, 0, 4, 2)  (0.96, 0.04)            5816      2.485998   \n",
       "5   (7, 8, 1, 5, 6, 3, 0, 4, 2)  (0.95, 0.05)            5840      2.489998   \n",
       "6   (7, 8, 1, 5, 6, 3, 0, 4, 2)  (0.94, 0.06)            5831      2.395999   \n",
       "7   (7, 8, 1, 5, 6, 3, 0, 4, 2)  (0.93, 0.07)            5863      2.340002   \n",
       "8   (7, 8, 1, 5, 6, 3, 0, 4, 2)  (0.92, 0.08)            5825      2.349999   \n",
       "9   (7, 8, 1, 5, 6, 3, 0, 4, 2)  (0.91, 0.09)            5897      2.283000   \n",
       "10  (7, 8, 1, 5, 6, 3, 0, 4, 2)    (0.9, 0.1)            5997      2.229001   \n",
       "11  (7, 8, 1, 5, 6, 3, 0, 4, 2)  (0.89, 0.11)            6003      2.327999   \n",
       "12  (7, 8, 1, 5, 6, 3, 0, 4, 2)  (0.88, 0.12)            6101      2.522024   \n",
       "13  (7, 8, 1, 5, 6, 3, 0, 4, 2)  (0.87, 0.13)            6361      2.544025   \n",
       "14  (7, 8, 1, 5, 6, 3, 0, 4, 2)  (0.86, 0.14)            6324      2.579027   \n",
       "15  (7, 8, 1, 5, 6, 3, 0, 4, 2)  (0.85, 0.15)            6697      2.819026   \n",
       "16  (7, 8, 1, 5, 6, 3, 0, 4, 2)  (0.84, 0.16)            6661      2.714026   \n",
       "17  (7, 8, 1, 5, 6, 3, 0, 4, 2)  (0.83, 0.17)            7249      2.887026   \n",
       "18  (7, 8, 1, 5, 6, 3, 0, 4, 2)  (0.82, 0.18)            7206      2.949027   \n",
       "19  (7, 8, 1, 5, 6, 3, 0, 4, 2)  (0.81, 0.19)            7298      3.067026   \n",
       "20  (7, 8, 1, 5, 6, 3, 0, 4, 2)    (0.8, 0.2)            7352      3.194000   \n",
       "21  (7, 8, 1, 5, 6, 3, 0, 4, 2)  (0.79, 0.21)            8052      3.663001   \n",
       "22  (7, 8, 1, 5, 6, 3, 0, 4, 2)  (0.78, 0.22)            8041      3.690001   \n",
       "23  (7, 8, 1, 5, 6, 3, 0, 4, 2)  (0.77, 0.23)            8268      3.577000   \n",
       "24  (7, 8, 1, 5, 6, 3, 0, 4, 2)  (0.76, 0.24)            8273      3.426000   \n",
       "25  (7, 8, 1, 5, 6, 3, 0, 4, 2)  (0.75, 0.25)            8312      3.371998   \n",
       "26  (7, 8, 1, 5, 6, 3, 0, 4, 2)  (0.74, 0.26)            9097      3.874000   \n",
       "27  (7, 8, 1, 5, 6, 3, 0, 4, 2)  (0.73, 0.27)            9109      3.928998   \n",
       "28  (7, 8, 1, 5, 6, 3, 0, 4, 2)  (0.72, 0.28)            9205      4.074997   \n",
       "29  (7, 8, 1, 5, 6, 3, 0, 4, 2)  (0.71, 0.29)            9733      4.398003   \n",
       "30  (7, 8, 1, 5, 6, 3, 0, 4, 2)    (0.7, 0.3)            9723      4.494001   \n",
       "\n",
       "    depth  \n",
       "0      26  \n",
       "1      26  \n",
       "2      26  \n",
       "3      26  \n",
       "4      26  \n",
       "5      26  \n",
       "6      26  \n",
       "7      26  \n",
       "8      26  \n",
       "9      26  \n",
       "10     26  \n",
       "11     26  \n",
       "12     26  \n",
       "13     26  \n",
       "14     26  \n",
       "15     26  \n",
       "16     26  \n",
       "17     26  \n",
       "18     26  \n",
       "19     26  \n",
       "20     26  \n",
       "21     26  \n",
       "22     26  \n",
       "23     26  \n",
       "24     26  \n",
       "25     26  \n",
       "26     26  \n",
       "27     26  \n",
       "28     26  \n",
       "29     26  \n",
       "30     26  "
      ]
     },
     "execution_count": 2,
     "metadata": {},
     "output_type": "execute_result"
    }
   ],
   "source": [
    "df"
   ]
  },
  {
   "cell_type": "markdown",
   "metadata": {},
   "source": [
    "## Group items\n",
    "Group items by depth (= how many steps were required to finish the puzzle), show the distribution of depths as chart"
   ]
  },
  {
   "cell_type": "code",
   "execution_count": 3,
   "metadata": {},
   "outputs": [
    {
     "data": {
      "image/png": "[encoded data removed]",
      "text/plain": [
       "<Figure size 1080x360 with 1 Axes>"
      ]
     },
     "metadata": {
      "needs_background": "light"
     },
     "output_type": "display_data"
    }
   ],
   "source": [
    "group = df.groupby(['depth'])\n",
    "x_pos = [i for i, _ in enumerate(group)]\n",
    "fig, ax = plt.subplots(figsize=(15,5))\n",
    "plt.xticks(list(group.groups.keys()))\n",
    "ax.bar(list(group.groups.keys()), list(group.size()))\n",
    "plt.show()"
   ]
  },
  {
   "cell_type": "markdown",
   "metadata": {},
   "source": [
    "## Printing a single constellation"
   ]
  },
  {
   "cell_type": "code",
   "execution_count": 4,
   "metadata": {
    "scrolled": true
   },
   "outputs": [
    {
     "data": {
      "image/png": "[encoded data removed]",
      "text/plain": [
       "<Figure size 1080x360 with 2 Axes>"
      ]
     },
     "metadata": {
      "needs_background": "light"
     },
     "output_type": "display_data"
    },
    {
     "data": {
      "image/png": "[encoded data removed]",
      "text/plain": [
       "<Figure size 720x360 with 2 Axes>"
      ]
     },
     "metadata": {
      "needs_background": "light"
     },
     "output_type": "display_data"
    }
   ],
   "source": [
    "x1 = np.array(df[0:25]['weights'].tolist())[:,0]\n",
    "y = df[0:25]['expanded_nodes']\n",
    "fig, ax = plt.subplots(1,2, figsize=(15,5))\n",
    "ax[1].plot(x1,y, \"b--\", label=\"Manhattan weight\")\n",
    "ax[1].set_xlabel(\"weight ratio\")\n",
    "ax[1].set_ylabel(\"expanded nodes\")\n",
    "ax[1].legend()\n",
    "\n",
    "x2 = np.array(df[0:25]['weights'].tolist())[:,1]\n",
    "y = df[0:25]['expanded_nodes']\n",
    "ax[0].plot(x2,y, \"r--\", label=\"Hamming weight\")\n",
    "ax[0].set_xlabel(\"weight ratio\")\n",
    "ax[0].set_ylabel(\"expanded nodes\")\n",
    "ax[0].legend()\n",
    "\n",
    "plt.show()\n",
    "\n",
    "############## COMBINED\n",
    "\n",
    "fig = plt.figure(figsize=(10,5))\n",
    "ax1 = fig.add_subplot()\n",
    "ax2 = ax1.twiny()\n",
    "\n",
    "ax1.plot(x1,y, \"b\", label=\"Manhattan weight\")\n",
    "ax1.set_xlabel(\"Manhattan weight\")\n",
    "ax1.set_ylabel(\"expanded nodes\")\n",
    "ax1.legend()\n",
    "\n",
    "ax2.plot(x2,y, \"r--\", label=\"Hamming weight\")\n",
    "ax2.set_xlabel(\"Hamming weight\")\n",
    "ax2.set_ylabel(\"expanded nodes\")\n",
    "ax2.legend()\n",
    "\n",
    "plt.show()\n"
   ]
  },
  {
   "cell_type": "markdown",
   "metadata": {},
   "source": [
    "## Print constellation for all (average)\n",
    "\n",
    "Shows the average expanded nodes based on the weight"
   ]
  },
  {
   "cell_type": "code",
   "execution_count": 5,
   "metadata": {
    "scrolled": false
   },
   "outputs": [
    {
     "data": {
      "image/png": "[encoded data removed]",
      "text/plain": [
       "<Figure size 1080x360 with 2 Axes>"
      ]
     },
     "metadata": {
      "needs_background": "light"
     },
     "output_type": "display_data"
    },
    {
     "data": {
      "image/png": "[encoded data removed]",
      "text/plain": [
       "<Figure size 720x360 with 2 Axes>"
      ]
     },
     "metadata": {
      "needs_background": "light"
     },
     "output_type": "display_data"
    }
   ],
   "source": [
    "weight_group = df.groupby(['weights'])\n",
    "x1 = np.array(list(weight_group.groups.keys()))[:,0]\n",
    "x2 = np.array(list(weight_group.groups.keys()))[:,1]\n",
    "y = weight_group['expanded_nodes'].mean()\n",
    "\n",
    "fig, ax = plt.subplots(1,2, figsize=(15,5))\n",
    "ax[1].plot(x1, y, \"b--\", label=\"Manhattan weight\") \n",
    "ax[1].set_xlabel(\"Weight ratio\")\n",
    "ax[1].set_ylabel(\"Average expanded nodes\")\n",
    "ax[1].legend()\n",
    "\n",
    "ax[0].plot(x2, y, \"r--\",label = \"Hamming weight\") \n",
    "ax[0].set_xlabel(\"Weight ratio\")\n",
    "ax[0].set_ylabel(\"Average expanded nodes\")\n",
    "ax[0].legend()\n",
    "plt.show()\n",
    "\n",
    "###################### COMBINED\n",
    "\n",
    "fig = plt.figure(figsize=(10,5))\n",
    "ax1 = fig.add_subplot()\n",
    "ax2 = ax1.twiny()\n",
    "\n",
    "ax1.plot(x1,y, \"b\", label=\"Manhattan weight\")\n",
    "ax1.set_xlabel(\"Manhattan weight\")\n",
    "ax1.set_ylabel(\"expanded nodes\")\n",
    "ax1.legend()\n",
    "\n",
    "ax2.plot(x2,y, \"r--\", label=\"Hamming weight\")\n",
    "ax2.set_xlabel(\"Hamming weight\")\n",
    "ax2.set_ylabel(\"expanded nodes\")\n",
    "ax2.legend()\n",
    "\n",
    "plt.show()\n"
   ]
  },
  {
   "cell_type": "code",
   "execution_count": 6,
   "metadata": {},
   "outputs": [],
   "source": [
    "df = pd.DataFrame(unfrozen)"
   ]
  },
  {
   "cell_type": "markdown",
   "metadata": {},
   "source": [
    "## Min Nodes"
   ]
  },
  {
   "cell_type": "code",
   "execution_count": 17,
   "metadata": {},
   "outputs": [
    {
     "data": {
      "text/html": [
       "<div>\n",
       "<style scoped>\n",
       "    .dataframe tbody tr th:only-of-type {\n",
       "        vertical-align: middle;\n",
       "    }\n",
       "\n",
       "    .dataframe tbody tr th {\n",
       "        vertical-align: top;\n",
       "    }\n",
       "\n",
       "    .dataframe thead th {\n",
       "        text-align: right;\n",
       "    }\n",
       "</style>\n",
       "<table border=\"1\" class=\"dataframe\">\n",
       "  <thead>\n",
       "    <tr style=\"text-align: right;\">\n",
       "      <th></th>\n",
       "      <th>expanded_nodes</th>\n",
       "    </tr>\n",
       "    <tr>\n",
       "      <th>depth</th>\n",
       "      <th></th>\n",
       "    </tr>\n",
       "  </thead>\n",
       "  <tbody>\n",
       "    <tr>\n",
       "      <th>26</th>\n",
       "      <td>4499</td>\n",
       "    </tr>\n",
       "  </tbody>\n",
       "</table>\n",
       "</div>"
      ],
      "text/plain": [
       "       expanded_nodes\n",
       "depth                \n",
       "26               4499"
      ]
     },
     "execution_count": 17,
     "metadata": {},
     "output_type": "execute_result"
    }
   ],
   "source": [
    "min_value = group[['expanded_nodes']].min()\n",
    "min_value"
   ]
  },
  {
   "cell_type": "markdown",
   "metadata": {},
   "source": [
    "## Max Nodes"
   ]
  },
  {
   "cell_type": "code",
   "execution_count": 16,
   "metadata": {},
   "outputs": [
    {
     "data": {
      "text/html": [
       "<div>\n",
       "<style scoped>\n",
       "    .dataframe tbody tr th:only-of-type {\n",
       "        vertical-align: middle;\n",
       "    }\n",
       "\n",
       "    .dataframe tbody tr th {\n",
       "        vertical-align: top;\n",
       "    }\n",
       "\n",
       "    .dataframe thead th {\n",
       "        text-align: right;\n",
       "    }\n",
       "</style>\n",
       "<table border=\"1\" class=\"dataframe\">\n",
       "  <thead>\n",
       "    <tr style=\"text-align: right;\">\n",
       "      <th></th>\n",
       "      <th>expanded_nodes</th>\n",
       "    </tr>\n",
       "    <tr>\n",
       "      <th>depth</th>\n",
       "      <th></th>\n",
       "    </tr>\n",
       "  </thead>\n",
       "  <tbody>\n",
       "    <tr>\n",
       "      <th>26</th>\n",
       "      <td>9733</td>\n",
       "    </tr>\n",
       "  </tbody>\n",
       "</table>\n",
       "</div>"
      ],
      "text/plain": [
       "       expanded_nodes\n",
       "depth                \n",
       "26               9733"
      ]
     },
     "execution_count": 16,
     "metadata": {},
     "output_type": "execute_result"
    }
   ],
   "source": [
    "max_value = group[['expanded_nodes']].max()\n",
    "max_value"
   ]
  },
  {
   "cell_type": "markdown",
   "metadata": {},
   "source": [
    "## Mean Nodes"
   ]
  },
  {
   "cell_type": "code",
   "execution_count": 9,
   "metadata": {},
   "outputs": [
    {
     "name": "stdout",
     "output_type": "stream",
     "text": [
      "       expanded_nodes\n",
      "depth                \n",
      "26        7036.129032\n"
     ]
    }
   ],
   "source": [
    "mean_value = group[['expanded_nodes']].mean()\n",
    "print(mean_value)"
   ]
  },
  {
   "cell_type": "markdown",
   "metadata": {},
   "source": [
    "## Best weights based on the least nodes per depth"
   ]
  },
  {
   "cell_type": "code",
   "execution_count": 10,
   "metadata": {
    "scrolled": true
   },
   "outputs": [
    {
     "data": {
      "text/plain": [
       "array([1., 0.])"
      ]
     },
     "execution_count": 10,
     "metadata": {},
     "output_type": "execute_result"
    }
   ],
   "source": [
    "min_nodes = df.loc[group['expanded_nodes'].idxmin()]\n",
    "np.mean(min_nodes['weights'].tolist(), axis=0)"
   ]
  },
  {
   "cell_type": "markdown",
   "metadata": {},
   "source": [
    "## Best weights based on the weights with the least nodes of each example"
   ]
  },
  {
   "cell_type": "code",
   "execution_count": 15,
   "metadata": {},
   "outputs": [
    {
     "data": {
      "text/plain": [
       "array([1., 0.])"
      ]
     },
     "execution_count": 15,
     "metadata": {},
     "output_type": "execute_result"
    }
   ],
   "source": [
    "group_by_example = df.groupby('array')\n",
    "min_nodes_per_example = df.loc[group_by_example['expanded_nodes'].idxmin()]\n",
    "np.mean(min_nodes_per_example['weights'].tolist(), axis=0)"
   ]
  },
  {
   "cell_type": "code",
   "execution_count": 12,
   "metadata": {
    "scrolled": false
   },
   "outputs": [
    {
     "data": {
      "text/html": [
       "<div>\n",
       "<style scoped>\n",
       "    .dataframe tbody tr th:only-of-type {\n",
       "        vertical-align: middle;\n",
       "    }\n",
       "\n",
       "    .dataframe tbody tr th {\n",
       "        vertical-align: top;\n",
       "    }\n",
       "\n",
       "    .dataframe thead th {\n",
       "        text-align: right;\n",
       "    }\n",
       "</style>\n",
       "<table border=\"1\" class=\"dataframe\">\n",
       "  <thead>\n",
       "    <tr style=\"text-align: right;\">\n",
       "      <th></th>\n",
       "      <th>array</th>\n",
       "      <th>weights</th>\n",
       "      <th>expanded_nodes</th>\n",
       "      <th>time_elapsed</th>\n",
       "      <th>depth</th>\n",
       "    </tr>\n",
       "  </thead>\n",
       "  <tbody>\n",
       "    <tr>\n",
       "      <th>0</th>\n",
       "      <td>(7, 8, 1, 5, 6, 3, 0, 4, 2)</td>\n",
       "      <td>(1.0, 0.0)</td>\n",
       "      <td>4499</td>\n",
       "      <td>1.448</td>\n",
       "      <td>26</td>\n",
       "    </tr>\n",
       "  </tbody>\n",
       "</table>\n",
       "</div>"
      ],
      "text/plain": [
       "                         array     weights  expanded_nodes  time_elapsed  \\\n",
       "0  (7, 8, 1, 5, 6, 3, 0, 4, 2)  (1.0, 0.0)            4499         1.448   \n",
       "\n",
       "   depth  \n",
       "0     26  "
      ]
     },
     "execution_count": 12,
     "metadata": {},
     "output_type": "execute_result"
    }
   ],
   "source": [
    "min_nodes_per_example.sort_values(\"depth\")"
   ]
  },
  {
   "cell_type": "code",
   "execution_count": 13,
   "metadata": {
    "scrolled": false
   },
   "outputs": [
    {
     "name": "stdout",
     "output_type": "stream",
     "text": [
      "[1.]\n",
      "weights\n",
      "(1.0, 0.0)    173.038462\n",
      "Name: normalized_expanded_nodes, dtype: float64\n"
     ]
    },
    {
     "data": {
      "image/png": "[encoded data removed]",
      "text/plain": [
       "<Figure size 1080x360 with 2 Axes>"
      ]
     },
     "metadata": {
      "needs_background": "light"
     },
     "output_type": "display_data"
    }
   ],
   "source": [
    "min_nodes_per_example['normalized_expanded_nodes'] = min_nodes_per_example['expanded_nodes'] / min_nodes_per_example['depth']\n",
    "weight_group = min_nodes_per_example.groupby(['weights'])\n",
    "\n",
    "x1 = np.array(list(weight_group.groups.keys()))[:,0]\n",
    "x2 = np.array(list(weight_group.groups.keys()))[:,1]\n",
    "weight_group['normalized_expanded_nodes']\n",
    "y = weight_group['normalized_expanded_nodes'].mean()\n",
    "\n",
    "print(x1)\n",
    "print(y)\n",
    "\n",
    "fig, ax = plt.subplots(1,2, figsize=(15,5))\n",
    "ax[0].plot(x1, y, \"b--\", label=\"Manhattan weight\") \n",
    "ax[0].set_xlabel(\"Weight ratio\")\n",
    "ax[0].set_ylabel(\"Average expanded nodes\")\n",
    "ax[0].legend()\n",
    "\n",
    "# ax[1].plot(x2, y, \"r--\",label = \"Hamming weight\") \n",
    "# ax[1].set_xlabel(\"Weight ratio\")\n",
    "# ax[1].set_ylabel(\"Average expanded nodes\")\n",
    "# ax[1].legend()\n",
    "plt.show()\n",
    "\n",
    "# ###################### COMBINED\n",
    "\n",
    "# fig = plt.figure(figsize=(10,5))\n",
    "# ax1 = fig.add_subplot()\n",
    "# ax2 = ax1.twiny()\n",
    "\n",
    "# ax1.plot(x1,y, \"b\", label=\"Manhattan weight\")\n",
    "# ax1.set_xlabel(\"Manhattan weight\")\n",
    "# ax1.set_ylabel(\"expanded nodes\")\n",
    "# ax1.legend()\n",
    "\n",
    "# ax2.plot(x2,y, \"r--\", label=\"Hamming weight\")\n",
    "# ax2.set_xlabel(\"Hamming weight\")\n",
    "# ax2.set_ylabel(\"expanded nodes\")\n",
    "# ax2.legend()\n",
    "\n",
    "# plt.show()\n"
   ]
  }
 ],
 "metadata": {
  "kernelspec": {
   "display_name": "Python 3",
   "language": "python",
   "name": "python3"
  },
  "language_info": {
   "codemirror_mode": {
    "name": "ipython",
    "version": 3
   },
   "file_extension": ".py",
   "mimetype": "text/x-python",
   "name": "python",
   "nbconvert_exporter": "python",
   "pygments_lexer": "ipython3",
   "version": "3.9.2"
  }
 },
 "nbformat": 4,
 "nbformat_minor": 1
}